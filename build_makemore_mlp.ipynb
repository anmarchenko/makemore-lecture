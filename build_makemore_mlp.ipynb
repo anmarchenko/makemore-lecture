{
 "cells": [
  {
   "cell_type": "code",
   "execution_count": 2,
   "metadata": {},
   "outputs": [],
   "source": [
    "import torch\n",
    "import torch.nn.functional as F\n",
    "import matplotlib.pyplot as plt\n",
    "%matplotlib inline"
   ]
  },
  {
   "cell_type": "code",
   "execution_count": 3,
   "metadata": {},
   "outputs": [
    {
     "data": {
      "text/plain": [
       "['emma', 'olivia', 'ava', 'isabella', 'sophia', 'charlotte', 'mia', 'amelia']"
      ]
     },
     "execution_count": 3,
     "metadata": {},
     "output_type": "execute_result"
    }
   ],
   "source": [
    "words = open('names.txt', 'r').read().splitlines()\n",
    "words[:8]"
   ]
  },
  {
   "cell_type": "code",
   "execution_count": 4,
   "metadata": {},
   "outputs": [
    {
     "data": {
      "text/plain": [
       "32033"
      ]
     },
     "execution_count": 4,
     "metadata": {},
     "output_type": "execute_result"
    }
   ],
   "source": [
    "len(words)"
   ]
  },
  {
   "cell_type": "code",
   "execution_count": 5,
   "metadata": {},
   "outputs": [
    {
     "name": "stdout",
     "output_type": "stream",
     "text": [
      "{1: 'a', 2: 'b', 3: 'c', 4: 'd', 5: 'e', 6: 'f', 7: 'g', 8: 'h', 9: 'i', 10: 'j', 11: 'k', 12: 'l', 13: 'm', 14: 'n', 15: 'o', 16: 'p', 17: 'q', 18: 'r', 19: 's', 20: 't', 21: 'u', 22: 'v', 23: 'w', 24: 'x', 25: 'y', 26: 'z', 0: '.'}\n"
     ]
    }
   ],
   "source": [
    "# build the vocabulary of characters and mappings to/from integers\n",
    "chars = sorted(list(set(''.join(words))))\n",
    "stoi = {s:i+1 for i,s in enumerate(chars)}\n",
    "stoi['.'] = 0\n",
    "itos = {i:s for s, i in stoi.items()}\n",
    "print(itos)"
   ]
  },
  {
   "cell_type": "code",
   "execution_count": 6,
   "metadata": {},
   "outputs": [],
   "source": [
    "# build the dataset\n",
    "\n",
    "block_size = 3 # context length: how many characters do we take to predict the next one?\n",
    "X, Y = [], []\n",
    "\n",
    "for w in words:\n",
    "  context = [0] * block_size\n",
    "  for ch in w + '.':\n",
    "    ix = stoi[ch]\n",
    "    X.append(context)\n",
    "    Y.append(ix)\n",
    "    context = context[1:] + [ix] # rolling window\n",
    "\n",
    "X = torch.tensor(X)\n",
    "Y = torch.tensor(Y)"
   ]
  },
  {
   "cell_type": "code",
   "execution_count": 7,
   "metadata": {},
   "outputs": [
    {
     "data": {
      "text/plain": [
       "(torch.Size([228146, 3]), torch.int64, torch.Size([228146]), torch.int64)"
      ]
     },
     "execution_count": 7,
     "metadata": {},
     "output_type": "execute_result"
    }
   ],
   "source": [
    "X.shape, X.dtype, Y.shape, Y.dtype"
   ]
  },
  {
   "cell_type": "code",
   "execution_count": 8,
   "metadata": {},
   "outputs": [
    {
     "data": {
      "text/plain": [
       "tensor([[ 0,  0,  0],\n",
       "        [ 0,  0,  5],\n",
       "        [ 0,  5, 13],\n",
       "        ...,\n",
       "        [26, 26, 25],\n",
       "        [26, 25, 26],\n",
       "        [25, 26, 24]])"
      ]
     },
     "execution_count": 8,
     "metadata": {},
     "output_type": "execute_result"
    }
   ],
   "source": [
    "X"
   ]
  },
  {
   "cell_type": "code",
   "execution_count": 9,
   "metadata": {},
   "outputs": [
    {
     "data": {
      "text/plain": [
       "tensor([ 5, 13, 13,  ..., 26, 24,  0])"
      ]
     },
     "execution_count": 9,
     "metadata": {},
     "output_type": "execute_result"
    }
   ],
   "source": [
    "Y"
   ]
  },
  {
   "cell_type": "code",
   "execution_count": 10,
   "metadata": {},
   "outputs": [],
   "source": [
    "# embeddings table\n",
    "# take vectors and embed them in lower dimensional space\n",
    "# we have 27 possible characters, we put them in 2-dimensional space\n",
    "\n",
    "C = torch.randn((27, 2)) # embeddings table"
   ]
  },
  {
   "cell_type": "code",
   "execution_count": 11,
   "metadata": {},
   "outputs": [
    {
     "data": {
      "text/plain": [
       "tensor([-0.0762,  1.2539])"
      ]
     },
     "execution_count": 11,
     "metadata": {},
     "output_type": "execute_result"
    }
   ],
   "source": [
    "C[5] # this embeds an integer into 2 dimensional vector "
   ]
  },
  {
   "cell_type": "code",
   "execution_count": 12,
   "metadata": {},
   "outputs": [
    {
     "data": {
      "text/plain": [
       "tensor([-0.0762,  1.2539])"
      ]
     },
     "execution_count": 12,
     "metadata": {},
     "output_type": "execute_result"
    }
   ],
   "source": [
    "F.one_hot(torch.tensor(5), num_classes=27).float() @ C # this embeds an integer into 2 dimensional vector "
   ]
  },
  {
   "cell_type": "code",
   "execution_count": 13,
   "metadata": {},
   "outputs": [
    {
     "data": {
      "text/plain": [
       "torch.Size([228146, 3, 2])"
      ]
     },
     "execution_count": 13,
     "metadata": {},
     "output_type": "execute_result"
    }
   ],
   "source": [
    "emb = C[X]\n",
    "emb.shape"
   ]
  },
  {
   "cell_type": "code",
   "execution_count": 14,
   "metadata": {},
   "outputs": [],
   "source": [
    "# neural network first layer (hidden layer)\n",
    "W1 = torch.randn((6, 100)) # weights\n",
    "b1 = torch.randn(100) # biases"
   ]
  },
  {
   "cell_type": "code",
   "execution_count": 15,
   "metadata": {},
   "outputs": [
    {
     "data": {
      "text/plain": [
       "tensor([[-0.9997,  0.2713, -0.1613,  ...,  0.9198, -0.9994,  0.9998],\n",
       "        [-0.9983, -0.0771,  0.6941,  ...,  0.7719, -0.9994,  0.9990],\n",
       "        [ 0.1390, -0.3700,  1.0000,  ..., -0.7551, -0.9980,  0.8156],\n",
       "        ...,\n",
       "        [-0.9842,  0.9923, -0.8003,  ..., -0.9865,  0.9994,  0.9990],\n",
       "        [-0.3299,  0.8777, -0.9818,  ..., -1.0000,  1.0000,  0.0885],\n",
       "        [ 0.9072, -0.9948, -0.9853,  ..., -0.9869, -0.1569,  0.1590]])"
      ]
     },
     "execution_count": 15,
     "metadata": {},
     "output_type": "execute_result"
    }
   ],
   "source": [
    "h = torch.tanh(emb.view(-1, 6) @ W1 + b1) # hidden layer with activation function\n",
    "h"
   ]
  },
  {
   "cell_type": "code",
   "execution_count": 16,
   "metadata": {},
   "outputs": [],
   "source": [
    "# neural network second layer (output layer)\n",
    "W2 = torch.randn((100, 27)) # weights\n",
    "b2 = torch.randn(27) # biases"
   ]
  },
  {
   "cell_type": "code",
   "execution_count": 17,
   "metadata": {},
   "outputs": [],
   "source": [
    "# NOW REFACTORED MLP"
   ]
  },
  {
   "cell_type": "code",
   "execution_count": 18,
   "metadata": {},
   "outputs": [
    {
     "data": {
      "text/plain": [
       "(torch.Size([228146, 3]), torch.Size([228146]))"
      ]
     },
     "execution_count": 18,
     "metadata": {},
     "output_type": "execute_result"
    }
   ],
   "source": [
    "# dataset\n",
    "# X - trigrams of characters\n",
    "# Y - next character that comes after the trigram\n",
    "X.shape, Y.shape"
   ]
  },
  {
   "cell_type": "code",
   "execution_count": 19,
   "metadata": {},
   "outputs": [],
   "source": [
    "g = torch.Generator().manual_seed(2147483647)\n",
    "C = torch.randn((27, 2), generator=g) # embeddings table: it basically converts any given input character into a 2 dimensional vector\n",
    "# neural network first layer (hidden layer)\n",
    "W1 = torch.randn((6, 100), generator=g) # weights\n",
    "b1 = torch.randn(100, generator=g) # biases\n",
    "# neural network second layer (output layer)\n",
    "W2 = torch.randn((100, 27), generator=g) # weights\n",
    "b2 = torch.randn(27, generator=g) # biases\n",
    "parameters = [C, W1, b1, W2, b2]"
   ]
  },
  {
   "cell_type": "code",
   "execution_count": 20,
   "metadata": {},
   "outputs": [
    {
     "data": {
      "text/plain": [
       "3481"
      ]
     },
     "execution_count": 20,
     "metadata": {},
     "output_type": "execute_result"
    }
   ],
   "source": [
    "sum(p.nelement() for p in parameters) # number of parameters in total"
   ]
  },
  {
   "cell_type": "code",
   "execution_count": 21,
   "metadata": {},
   "outputs": [],
   "source": [
    "for p in parameters:\n",
    "  p.requires_grad = True"
   ]
  },
  {
   "cell_type": "code",
   "execution_count": 22,
   "metadata": {},
   "outputs": [],
   "source": [
    "# lre = torch.linspace(-3, 0, 1000)\n",
    "# lrs = 10**lre\n",
    "# lrs"
   ]
  },
  {
   "cell_type": "code",
   "execution_count": 23,
   "metadata": {},
   "outputs": [
    {
     "name": "stdout",
     "output_type": "stream",
     "text": [
      "2.6680614948272705\n"
     ]
    }
   ],
   "source": [
    "# training\n",
    "lri = []\n",
    "lossi = []\n",
    "\n",
    "for i in range(10000):\n",
    "  # minibatch construct\n",
    "  ix = torch.randint(0, X.shape[0], (32, ))\n",
    "\n",
    "  # forward pass\n",
    "  emb = C[X[ix]] # (32, 3, 2), we select only 32 examples from a random minibatch\n",
    "  h = torch.tanh(emb.view(-1, 6) @ W1 + b1) # hidden layer with activation function, (32, 100)\n",
    "  logits = h @ W2 +   b2\n",
    "  loss = F.cross_entropy(logits, Y[ix])\n",
    "\n",
    "  # backward pass\n",
    "  for p in parameters:\n",
    "    p.grad = None \n",
    "  loss.backward()\n",
    "\n",
    "  # update\n",
    "  lr = 0.01\n",
    "  for p in parameters:\n",
    "    p.data += -lr * p.grad\n",
    "\n",
    "  # # track stats\n",
    "  # lri.append(lr)\n",
    "  # lossi.append(loss.item())\n",
    "\n",
    "print(loss.item())\n"
   ]
  },
  {
   "cell_type": "code",
   "execution_count": 24,
   "metadata": {},
   "outputs": [
    {
     "data": {
      "text/plain": [
       "tensor(2.5670, grad_fn=<NllLossBackward0>)"
      ]
     },
     "execution_count": 24,
     "metadata": {},
     "output_type": "execute_result"
    }
   ],
   "source": [
    "# evaluate loss for the whole dataset\n",
    "emb = C[X] # (32, 3, 2), we select only 32 examples from a random minibatch\n",
    "h = torch.tanh(emb.view(-1, 6) @ W1 + b1) # hidden layer with activation function, (32, 100)\n",
    "logits = h @ W2 +   b2\n",
    "loss = F.cross_entropy(logits, Y)\n",
    "loss"
   ]
  },
  {
   "cell_type": "code",
   "execution_count": 93,
   "metadata": {},
   "outputs": [
    {
     "name": "stdout",
     "output_type": "stream",
     "text": [
      "torch.Size([182580, 3]) torch.Size([182580])\n",
      "torch.Size([22767, 3]) torch.Size([22767])\n",
      "torch.Size([22799, 3]) torch.Size([22799])\n"
     ]
    }
   ],
   "source": [
    "# split data in 3 parts\n",
    "# training split, dev/validation split, test split\n",
    "# 80%, 10%, 10%\n",
    "\n",
    "# build the dataset\n",
    "\n",
    "def build_dataset(words):\n",
    "  block_size = 3 # context length: how many characters do we take to predict the next one?\n",
    "  X, Y = [], []\n",
    "\n",
    "  for w in words:\n",
    "    context = [0] * block_size\n",
    "    for ch in w + '.':\n",
    "      ix = stoi[ch]\n",
    "      X.append(context)\n",
    "      Y.append(ix)\n",
    "      context = context[1:] + [ix] # rolling window\n",
    "\n",
    "  X = torch.tensor(X)\n",
    "  Y = torch.tensor(Y)\n",
    "  print(X.shape, Y.shape)\n",
    "  return X, Y\n",
    "\n",
    "import random\n",
    "random.seed(42)\n",
    "random.shuffle(words)\n",
    "n1 = int(0.8*len(words))\n",
    "n2 = int(0.9*len(words))\n",
    "\n",
    "Xtr, Ytr = build_dataset(words[:n1])\n",
    "Xdev, Ydev = build_dataset(words[n1:n2])\n",
    "Xte, Yte = build_dataset(words[n2:])"
   ]
  },
  {
   "cell_type": "code",
   "execution_count": 95,
   "metadata": {},
   "outputs": [],
   "source": [
    "# MLP\n",
    "g = torch.Generator().manual_seed(2147483647)\n",
    "C = torch.randn((27, 10), generator=g) # embeddings table: it basically converts any given input character into a 2 dimensional vector (later improvement - 10 dimensional)\n",
    "# neural network first layer (hidden layer)\n",
    "W1 = torch.randn((30, 200), generator=g) # weights, we scaled it up from 100 to 300 neurons\n",
    "b1 = torch.randn(200, generator=g) # biases\n",
    "# neural network second layer (output layer)\n",
    "W2 = torch.randn((200, 27), generator=g) # weights\n",
    "b2 = torch.randn(27, generator=g) # biases\n",
    "parameters = [C, W1, b1, W2, b2]\n",
    "for p in parameters:\n",
    "  p.requires_grad = True"
   ]
  },
  {
   "cell_type": "code",
   "execution_count": 96,
   "metadata": {},
   "outputs": [
    {
     "data": {
      "text/plain": [
       "11897"
      ]
     },
     "execution_count": 96,
     "metadata": {},
     "output_type": "execute_result"
    }
   ],
   "source": [
    "sum(p.nelement() for p in parameters)"
   ]
  },
  {
   "cell_type": "code",
   "execution_count": 97,
   "metadata": {},
   "outputs": [],
   "source": [
    "lri = []\n",
    "lossi = []\n",
    "stepi = []"
   ]
  },
  {
   "cell_type": "code",
   "execution_count": 98,
   "metadata": {},
   "outputs": [],
   "source": [
    "# training\n",
    "\n",
    "for i in range(200000):\n",
    "  # minibatch construct\n",
    "  ix = torch.randint(0, Xtr.shape[0], (32, ))\n",
    "\n",
    "  # forward pass\n",
    "  emb = C[Xtr[ix]] # (32, 3, 10), we select only 32 examples from a random minibatch\n",
    "  h = torch.tanh(emb.view(-1, 30) @ W1 + b1) # hidden layer with activation function, (32, 100)\n",
    "  logits = h @ W2 +   b2\n",
    "  loss = F.cross_entropy(logits, Ytr[ix])\n",
    "\n",
    "  # backward pass\n",
    "  for p in parameters:\n",
    "    p.grad = None \n",
    "  loss.backward()\n",
    "\n",
    "  # update\n",
    "  lr = 0.1 if i < 100000 else 0.01\n",
    "  for p in parameters:\n",
    "    p.data += -lr * p.grad\n",
    "\n",
    "  # track stats\n",
    "  stepi.append(i)\n",
    "  lri.append(lr)\n",
    "  lossi.append(loss.log10().item())\n",
    "\n",
    "# print(loss.item())\n"
   ]
  },
  {
   "cell_type": "code",
   "execution_count": 99,
   "metadata": {},
   "outputs": [
    {
     "data": {
      "text/plain": [
       "[<matplotlib.lines.Line2D at 0x17fc38160>]"
      ]
     },
     "execution_count": 99,
     "metadata": {},
     "output_type": "execute_result"
    },
    {
     "data": {
      "image/png": "[encoded data removed]",
      "text/plain": [
       "<Figure size 640x480 with 1 Axes>"
      ]
     },
     "metadata": {},
     "output_type": "display_data"
    }
   ],
   "source": [
    "plt.plot(stepi, lossi)"
   ]
  },
  {
   "cell_type": "code",
   "execution_count": 100,
   "metadata": {},
   "outputs": [
    {
     "data": {
      "text/plain": [
       "tensor(2.1233, grad_fn=<NllLossBackward0>)"
      ]
     },
     "execution_count": 100,
     "metadata": {},
     "output_type": "execute_result"
    }
   ],
   "source": [
    "# evaluate on training set\n",
    "emb = C[Xtr] # (32, 3, 10), we select only 32 examples from a random minibatch\n",
    "h = torch.tanh(emb.view(-1, 30) @ W1 + b1) # hidden layer with activation function, (32, 100)\n",
    "logits = h @ W2 +   b2\n",
    "loss = F.cross_entropy(logits, Ytr)\n",
    "loss"
   ]
  },
  {
   "cell_type": "code",
   "execution_count": 101,
   "metadata": {},
   "outputs": [
    {
     "data": {
      "text/plain": [
       "tensor(2.1572, grad_fn=<NllLossBackward0>)"
      ]
     },
     "execution_count": 101,
     "metadata": {},
     "output_type": "execute_result"
    }
   ],
   "source": [
    "# evaluate on dev set\n",
    "emb = C[Xdev] # (32, 3, 10), we select only 32 examples from a random minibatch\n",
    "h = torch.tanh(emb.view(-1, 30) @ W1 + b1) # hidden layer with activation function, (32, 100)\n",
    "logits = h @ W2 +   b2\n",
    "loss = F.cross_entropy(logits, Ydev)\n",
    "# when loss on training and dev sets is roughly equal\n",
    "# it means that we are underfitting: our neural network is not big and complicated enough\n",
    "# we should scale it up\n",
    "# next bottleneck: 2D embeddings vectors - dimensionality is too low\n",
    "loss"
   ]
  },
  {
   "cell_type": "code",
   "execution_count": 88,
   "metadata": {},
   "outputs": [
    {
     "data": {
      "image/png": "[encoded data removed]",
      "text/plain": [
       "<Figure size 800x800 with 1 Axes>"
      ]
     },
     "metadata": {},
     "output_type": "display_data"
    }
   ],
   "source": [
    "# visualize embeddings\n",
    "plt.figure(figsize=(8,8))\n",
    "plt.scatter(C[:, 0].data, C[:,1].data, s = 200)\n",
    "for i in range(C.shape[0]):\n",
    "  plt.text(C[i,0].item(), C[i,1].item(), itos[i], ha='center', va=\"center\", color='white')\n",
    "plt.grid('minor')"
   ]
  },
  {
   "cell_type": "code",
   "execution_count": 106,
   "metadata": {},
   "outputs": [
    {
     "name": "stdout",
     "output_type": "stream",
     "text": [
      "cerie.\n",
      "coulsuriana.\n",
      "kayderrinimittareel.\n",
      "adn.\n",
      "kator.\n",
      "samiyah.\n",
      "javer.\n",
      "gotti.\n",
      "moziella.\n",
      "kinz.\n",
      "teda.\n",
      "kaley.\n",
      "maside.\n",
      "ankaviyn.\n",
      "zatlan.\n",
      "huciel.\n",
      "vorhelsa.\n",
      "dydr.\n",
      "breenley.\n",
      "alaira.\n"
     ]
    }
   ],
   "source": [
    "# sample from the best variant of our model\n",
    "\n",
    "g = torch.Generator().manual_seed(2147483647)\n",
    "for _ in range(20):\n",
    "  out = []\n",
    "  context = [0] * block_size # initialize with ...\n",
    "\n",
    "  while True:\n",
    "    emb = C[torch.tensor([context])] # (1, block_size, d)\n",
    "    h = torch.tanh(emb.view(1, -1) @ W1 + b1)\n",
    "    logits = h @ W2 + b2\n",
    "    probs = F.softmax(logits, dim=1)\n",
    "    ix = torch.multinomial(probs, num_samples=1, generator=g).item()\n",
    "    context = context[1:] + [ix]\n",
    "    out.append(ix)\n",
    "    if ix == 0:\n",
    "      break\n",
    "  print(''.join(itos[i] for i in out))"
   ]
  }
 ],
 "metadata": {
  "kernelspec": {
   "display_name": "Python 3",
   "language": "python",
   "name": "python3"
  },
  "language_info": {
   "codemirror_mode": {
    "name": "ipython",
    "version": 3
   },
   "file_extension": ".py",
   "mimetype": "text/x-python",
   "name": "python",
   "nbconvert_exporter": "python",
   "pygments_lexer": "ipython3",
   "version": "3.9.16"
  },
  "orig_nbformat": 4
 },
 "nbformat": 4,
 "nbformat_minor": 2
}
